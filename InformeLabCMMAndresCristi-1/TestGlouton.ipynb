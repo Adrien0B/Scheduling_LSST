{
 "cells": [
  {
   "cell_type": "code",
   "execution_count": 1,
   "metadata": {
    "collapsed": true
   },
   "outputs": [],
   "source": [
    "import healpy as hpy\n",
    "import datetime\n",
    "import os\n",
    "\n",
    "from ACO_glouton import *\n",
    "from functions import conversion\n",
    "from functions import deconversion\n",
    "from matplotlib import animation\n",
    "from animation_path import *\n",
    "\n",
    "date_aux=\"2017/03/09 23:00:00\""
   ]
  },
  {
   "cell_type": "code",
   "execution_count": 2,
   "metadata": {
    "collapsed": true
   },
   "outputs": [],
   "source": [
    "#Initializing the observer instance\n",
    "obs=ephem.Observer()\n",
    "obs.lat=\"-33:27:00\"\n",
    "obs.lon=\"-70:40:00\"\n",
    "obs.date=date_aux\n",
    "#-------------------"
   ]
  },
  {
   "cell_type": "code",
   "execution_count": 3,
   "metadata": {
    "collapsed": true
   },
   "outputs": [],
   "source": [
    "#Calculating the Healpix discretization\n",
    "Nside=16\n",
    "Npix=hpy.pixelfunc.nside2npix(Nside)\n",
    "ipixmin=int(Npix/2)\n",
    "ipixmin=0\n",
    "X=np.transpose(np.array(hpy.pixelfunc.pix2ang(Nside,np.arange(ipixmin,Npix,1))))\n",
    "X[:,0] = np.pi/2-X[:,0]\n",
    "#X[:,1] = X[:,1]-np.pi\n",
    "#X*=180/np.pi\n",
    "Num=np.size(X,0)\n",
    "#---------------------------------"
   ]
  },
  {
   "cell_type": "code",
   "execution_count": 4,
   "metadata": {
    "collapsed": true
   },
   "outputs": [],
   "source": [
    "#Times since last visit\n",
    "#T = npr.randint(6, size=Num)+1\n",
    "if Num == 768:\n",
    "    T=np.load('Times8_uniform.npy')\n",
    "elif Num == 1536:\n",
    "\tT=np.load('Times.npy')\n",
    "elif Num == 6144:\n",
    "\tT=np.load('Times32.npy')\n",
    "elif Num == 3072:\n",
    "    T=np.load('Times_complete.npy')\n",
    "elif Num == 12288:\n",
    "    T=np.load('Times32_complete.npy')\n",
    "else:\n",
    "    print 'Times since last observations created randomly'\n",
    "    T=npr.randint(0,6,Num)\n",
    "#-------------------------"
   ]
  },
  {
   "cell_type": "code",
   "execution_count": 5,
   "metadata": {
    "scrolled": false
   },
   "outputs": [
    {
     "name": "stdout",
     "output_type": "stream",
     "text": [
      "2017-06-09 09:04:15.995587\n",
      "0.479142396813\n",
      "2017/3/9 23:31:13\n",
      "2017/3/10 00:17:13\n",
      "2017/3/10 01:03:13\n",
      "2017/3/10 01:49:13\n",
      "2017/3/10 02:35:13\n",
      "2017/3/10 03:21:12\n",
      "2017/3/10 04:07:12\n",
      "2017/3/10 04:53:12\n",
      "2017/3/10 05:39:12\n",
      "2017/3/10 06:25:12\n",
      "2017/3/10 07:11:12\n",
      "2017/3/10 07:57:12\n",
      "2017/3/10 08:43:11\n",
      "2017/3/10 09:29:11\n",
      "2017/3/10 10:15:11\n",
      "0.00138888888889\n",
      "Construccion Completa\n",
      "\n",
      "2017-06-09 09:04:25.604035\n"
     ]
    }
   ],
   "source": [
    "ACO=ACOScheduleGlouton(X,obs,15,T)"
   ]
  },
  {
   "cell_type": "code",
   "execution_count": 6,
   "metadata": {
    "scrolled": true
   },
   "outputs": [
    {
     "name": "stdout",
     "output_type": "stream",
     "text": [
      "*****************Super Ants******************\n",
      "*****************Ants******************\n",
      "0 0 2017-06-09 09:04:25.610060\n",
      "new non dominated solution 2017-06-09 09:06:40.968464 Obs =  414.564067664 Time =  11442\n",
      "new non dominated solution 2017-06-09 09:06:40.968877 Obs =  414.669515771 Time =  11438\n",
      "new non dominated solution 2017-06-09 09:06:40.969209 Obs =  418.668392067 Time =  11294\n",
      "new non dominated solution 2017-06-09 09:06:40.969630 Obs =  417.479935909 Time =  11358\n",
      "new non dominated solution 2017-06-09 09:06:40.969879 Obs =  417.415839038 Time =  11406\n",
      "new non dominated solution 2017-06-09 09:06:40.970154 Obs =  418.413869391 Time =  11350\n",
      "new non dominated solution 2017-06-09 09:06:40.970442 Obs =  418.477502908 Time =  11302\n",
      "new non dominated solution 2017-06-09 09:06:40.970705 Obs =  417.065620499 Time =  11414\n",
      "new non dominated solution 2017-06-09 09:06:40.971151 Obs =  402.52104766 Time =  11714\n",
      "new non dominated solution 2017-06-09 09:06:40.971411 Obs =  422.874977918 Time =  11288\n",
      "new non dominated solution 2017-06-09 09:06:40.971699 Obs =  402.648071088 Time =  11708\n",
      "new non dominated solution 2017-06-09 09:06:40.972036 Obs =  414.194442532 Time =  11466\n",
      "12\n"
     ]
    }
   ],
   "source": [
    "ACO.RunACO_Pheromone(0,1)\n",
    "print len(ACO.BPS)"
   ]
  },
  {
   "cell_type": "code",
   "execution_count": 7,
   "metadata": {
    "collapsed": true
   },
   "outputs": [],
   "source": [
    "if Nside==32:\n",
    "    markersize=25\n",
    "elif Nside==8:\n",
    "    markersize=400\n",
    "else:\n",
    "    markersize=100"
   ]
  },
  {
   "cell_type": "raw",
   "metadata": {},
   "source": [
    "#ACO.X = np.transpose(np.array(hpy.pixelfunc.pix2ang(Nside,np.arange(0,Npix,1))))\n",
    "#ACO.X[:,0] = np.pi/2-ACO.X[:,0]\n",
    "hpy.mollview(title=\"\",rot=(-10,-145,0))\n",
    "hpy.graticule(verbose=0)\n",
    "ax=hpy.projscatter(np.pi/2-ACO.X[:,0],ACO.X[:,1],lonlat=False,c=np.arange(np.size(ACO.X,0)),marker='.',s=markersize)\n",
    "plt.show()"
   ]
  },
  {
   "cell_type": "raw",
   "metadata": {},
   "source": [
    "X_conv=conversion(ACO.obs,ACO.X[:,0],ACO.X[:,1])\n",
    "hpy.mollview(title=\"\",rot=(0,0,0))\n",
    "hpy.graticule(verbose=0)\n",
    "ax=hpy.projscatter(np.pi/2-X_conv[1,:],X_conv[0,:],lonlat=False,c=np.arange(np.size(X_conv,1)),marker='.',s=markersize)\n",
    "plt.show()"
   ]
  },
  {
   "cell_type": "raw",
   "metadata": {},
   "source": [
    "X_deconv=deconversion(ACO.obs,X_conv[0,:],X_conv[1,:])\n",
    "hpy.mollview(title=\"\",rot=(-10,-145,0))\n",
    "hpy.graticule(verbose=0)\n",
    "ax=hpy.projscatter(np.pi/2-X_deconv[1,:],X_deconv[0,:],lonlat=False,c=np.arange(np.size(X_deconv,1)),marker='.',s=markersize)\n",
    "plt.show()"
   ]
  },
  {
   "cell_type": "code",
   "execution_count": 8,
   "metadata": {},
   "outputs": [
    {
     "data": {
      "image/png": "[encoded data removed]",
      "text/plain": [
       "<matplotlib.figure.Figure at 0x7fcfdba68e50>"
      ]
     },
     "metadata": {},
     "output_type": "display_data"
    }
   ],
   "source": [
    "#fig=ACO.PlotParetoHistorial(show=True)\n",
    "fig=ACO.PlotParetoFront(show=True)"
   ]
  },
  {
   "cell_type": "raw",
   "metadata": {
    "scrolled": true
   },
   "source": [
    "for i in range(ACO.NightDisc):\n",
    "    ACO.X_fact=np.transpose(np.array([np.multiply(ACO.X[:,0],ACO.Fact[i]),np.multiply(ACO.X[:,1],ACO.Fact[i])]))\n",
    "    hpy.mollview(title=\"Observable Points at time : \"+str(ephem.Date(ACO.Times[i])),rot=(-10,-145,0))\n",
    "    hpy.graticule(verbose=0)\n",
    "    ax=hpy.projscatter(np.pi/2-ACO.X_fact[:,0],ACO.X_fact[:,1],lonlat=False,c=np.arange(np.size(ACO.X_fact,0)),marker='.',s=markersize)\n",
    "    ax=hpy.projscatter(np.pi/2-ACO.MAA[i,1],ACO.MAA[i,0],lonlat=False,marker='+',c='grey')\n",
    "    plt.show()"
   ]
  },
  {
   "cell_type": "raw",
   "metadata": {
    "scrolled": true
   },
   "source": [
    "for i in range(len(ACO.BPS)):\n",
    "    [schedAA,schedDR]=ACO.AZALT(ACO.BPS[i][0])\n",
    "    schedAA = np.array(schedAA)\n",
    "    schedDR = np.array(schedDR)\n",
    "    hpy.mollview(title=\"Points observed throughout the night \\n Number of points observed : \"+str(np.size(ACO.BPS[i][0],0))+\" \\n Observation Quality = \"+str(ACO.BPS[i][1])+\" | Time Quality = \"+str(ACO.BPS[i][2]),rot=(-10,-145,0))\n",
    "    hpy.graticule(verbose=0)\n",
    "    ax=hpy.projscatter(np.pi/2-schedDR[:,1],schedDR[:,0],lonlat=False,c=np.arange(np.size(schedDR,0)),marker='.',s=markersize)\n",
    "    #ax=hpy.projscatter(np.pi/2-ACO.MAA[i,1],ACO.MAA[i,0],lonlat=False,marker='+',c='grey')\n",
    "    plt.show()"
   ]
  },
  {
   "cell_type": "raw",
   "metadata": {
    "scrolled": true
   },
   "source": [
    "for i in range(ACO.NightDisc):\n",
    "    ACO.X_fact=np.transpose(np.array([np.multiply(ACO.X[:,0],ACO.Fact[i]),np.multiply(ACO.X[:,1],ACO.Fact[i])]))\n",
    "    ACO.obs.date = ACO.Times[i]\n",
    "    ACO.X_fact=np.transpose(conversion(ACO.obs,ACO.X_fact[:,0],ACO.X_fact[:,1]))\n",
    "    hpy.mollview(title=\"Observable Points at time : \"+str(ephem.Date(ACO.Times[i])),rot=(0,90,0))\n",
    "    hpy.graticule(verbose=0)\n",
    "    ax=hpy.projscatter(np.pi/2-ACO.X_fact[:,1],ACO.X_fact[:,0],lonlat=False,c=np.arange(np.size(ACO.X_fact,0)),marker='.',s=markersize)\n",
    "    #ax=hpy.projscatter(np.pi/2-ACO.MAA[i,1],ACO.MAA[i,0],lonlat=False,marker='+',c='grey')\n",
    "    plt.show()"
   ]
  },
  {
   "cell_type": "raw",
   "metadata": {
    "scrolled": true
   },
   "source": [
    "for i in range(len(ACO.BPS)):\n",
    "    [schedAA,schedDR]=ACO.AZALT(ACO.BPS[i][0])\n",
    "    schedAA = np.array(schedAA)\n",
    "    schedDR = np.array(schedDR)\n",
    "    hpy.mollview(title=\"Points observed throughout the night \\n Number of points observed : \"+str(np.size(ACO.BPS[i][0],0))+\" \\n Observation Quality = \"+str(ACO.BPS[i][1])+\" | Time Quality = \"+str(ACO.BPS[i][2]),rot=(0,90,0))\n",
    "    hpy.graticule(verbose=0)\n",
    "    ax=hpy.projscatter(np.pi/2-schedAA[:,1],schedAA[:,0],lonlat=False,c=np.arange(np.size(schedAA,0)),marker='.',s=markersize)\n",
    "    #ax=hpy.projscatter(np.pi/2-ACO.MAA[i,1],ACO.MAA[i,0],lonlat=False,marker='+',c='grey')\n",
    "    plt.show()"
   ]
  },
  {
   "cell_type": "code",
   "execution_count": 9,
   "metadata": {
    "collapsed": true
   },
   "outputs": [],
   "source": [
    "timenow = datetime.datetime.now()"
   ]
  },
  {
   "cell_type": "code",
   "execution_count": null,
   "metadata": {},
   "outputs": [
    {
     "name": "stdout",
     "output_type": "stream",
     "text": [
      "[ 402.5 , 402.6 , 414.1 , 414.5 , 414.6 , 417.0 , 417.4 , 417.4 , 418.4 , 418.4 , 418.6 , 422.8 ]\n",
      "[ 11714 , 11708 , 11466 , 11442 , 11438 , 11414 , 11406 , 11358 , 11350 , 11302 , 11294 , 11288 ]\n"
     ]
    }
   ],
   "source": [
    "def print_list(a):\n",
    "    print '[',\n",
    "    for i in a[:-1]:\n",
    "        print i,',',\n",
    "    print a[-1],']'\n",
    "\n",
    "\n",
    "a = np.sort(np.transpose(np.array([int(i[1]*10)/10.0 for i in ACO.BPS])))\n",
    "b = np.sort(np.transpose(np.array([i[2] for i in ACO.BPS])))[::-1]\n",
    "print_list(a)\n",
    "print_list(b)\n",
    "title = \"videos/%s-%s-%s_%s-%s-%s_%sIter_Pareto_Values\" % (timenow.year,timenow.month,timenow.day,timenow.hour,timenow.minute,timenow.second,ACO.AntIterations)\n",
    "np.savetxt(\"qhflsdjfn.txt\",(a,b),fmt='%s',delimiter=',',newline=']\\n[',header=' ')\n",
    "lines = open(\"qhflsdjfn.txt\").readlines()\n",
    "open(title, 'w').writelines(lines[1:-1])\n",
    "os.remove(\"qhflsdjfn.txt\")"
   ]
  },
  {
   "cell_type": "code",
   "execution_count": null,
   "metadata": {
    "scrolled": true
   },
   "outputs": [
    {
     "name": "stdout",
     "output_type": "stream",
     "text": [
      "2017-06-09 09:06:41.406528\n",
      "Saving equatorial for solution 1/12\n",
      "Saving horizontal for solution 1/12\n",
      "Saving equatorial for solution 2/12\n",
      "Saving horizontal for solution 2/12\n",
      "Saving equatorial for solution 3/12\n",
      "Saving horizontal for solution 3/12\n",
      "Saving equatorial for solution 4/12\n",
      "Saving horizontal for solution 4/12\n",
      "Saving equatorial for solution 5/12\n",
      "Saving horizontal for solution 5/12\n",
      "Saving equatorial for solution 6/12\n",
      "Saving horizontal for solution 6/12\n",
      "Saving equatorial for solution 7/12\n",
      "Saving horizontal for solution 7/12\n",
      "Saving equatorial for solution 8/12\n",
      "Saving horizontal for solution 8/12\n",
      "Saving equatorial for solution 9/12\n",
      "Saving horizontal for solution 9/12\n",
      "Saving equatorial for solution 10/12\n",
      "Saving horizontal for solution 10/12\n",
      "Saving equatorial for solution 11/12\n",
      "Saving horizontal for solution 11/12\n"
     ]
    }
   ],
   "source": [
    "if(1):\n",
    "    print timenow\n",
    "    fig = ACO.PlotParetoFront(title=\"%s-%s-%s_%s-%s-%s_%sIter_Pareto_Front\" % (timenow.year,timenow.month,timenow.day,timenow.hour,timenow.minute,timenow.second,ACO.AntIterations))\n",
    "    fig.savefig(\"videos/%s-%s-%s_%s-%s-%s_%sIter_Pareto_Front\" % (timenow.year,timenow.month,timenow.day,timenow.hour,timenow.minute,timenow.second,ACO.AntIterations))\n",
    "    plt.clf()\n",
    "    for i in range(len(ACO.BPS)):\n",
    "        [schedAA,schedDR]=ACO.AZALT(ACO.BPS[i][0])\n",
    "        print \"Saving equatorial for solution \"+str(i+1)+\"/\"+str(len(ACO.BPS))\n",
    "        animation_path(schedDR,(-10,-145,0),\"%s-%s-%s_%s-%s-%s_%sIter_Sol%s_%sObservations_T%s_O%s_equatorial\" % (timenow.year,timenow.month,timenow.day,timenow.hour,timenow.minute,timenow.second,ACO.AntIterations,i,np.size(ACO.BPS[i][0],0),ACO.BPS[i][2],int(ACO.BPS[i][1]*10)/10.0),marker='.',s=markersize)\n",
    "        print \"Saving horizontal for solution \"+str(i+1)+\"/\"+str(len(ACO.BPS))\n",
    "        plt.clf()\n",
    "        animation_path(schedAA,(0,90,0),\"%s-%s-%s_%s-%s-%s_%sIter_Sol%s_%sObservations_T%s_O%s_horizontal\" % (timenow.year,timenow.month,timenow.day,timenow.hour,timenow.minute,timenow.second,ACO.AntIterations,i,np.size(ACO.BPS[i][0],0),ACO.BPS[i][2],int(ACO.BPS[i][1]*10)/10.0),marker='.',s=markersize)\n",
    "        plt.clf()\n",
    "        plt.close('all')"
   ]
  },
  {
   "cell_type": "code",
   "execution_count": null,
   "metadata": {
    "collapsed": true
   },
   "outputs": [],
   "source": []
  }
 ],
 "metadata": {
  "kernelspec": {
   "display_name": "Python 2",
   "language": "python",
   "name": "python2"
  },
  "language_info": {
   "codemirror_mode": {
    "name": "ipython",
    "version": 2
   },
   "file_extension": ".py",
   "mimetype": "text/x-python",
   "name": "python",
   "nbconvert_exporter": "python",
   "pygments_lexer": "ipython2",
   "version": "2.7.13"
  }
 },
 "nbformat": 4,
 "nbformat_minor": 1
}
