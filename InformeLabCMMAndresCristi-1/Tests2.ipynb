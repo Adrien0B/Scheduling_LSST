{
 "cells": [
  {
   "cell_type": "code",
   "execution_count": 1,
   "metadata": {
    "collapsed": true
   },
   "outputs": [],
   "source": [
    "import healpy as hpy\n",
    "import datetime\n",
    "import os\n",
    "\n",
    "from ACOSchedule import *\n",
    "from functions import conversion\n",
    "from functions import deconversion\n",
    "from matplotlib import animation\n",
    "from animation_path import *\n",
    "\n",
    "date_aux=\"2017/03/09 23:00:00\""
   ]
  },
  {
   "cell_type": "code",
   "execution_count": 2,
   "metadata": {
    "collapsed": true
   },
   "outputs": [],
   "source": [
    "#Initializing the observer instance\n",
    "obs=ephem.Observer()\n",
    "obs.lat=\"-33:27:00\"\n",
    "obs.lon=\"-70:40:00\"\n",
    "obs.date=date_aux\n",
    "#-------------------"
   ]
  },
  {
   "cell_type": "code",
   "execution_count": 3,
   "metadata": {
    "collapsed": true
   },
   "outputs": [],
   "source": [
    "#Calculating the Healpix discretization\n",
    "Nside=16\n",
    "Npix=hpy.pixelfunc.nside2npix(Nside)\n",
    "ipixmin=int(Npix/2)\n",
    "ipixmin=0\n",
    "X=np.transpose(np.array(hpy.pixelfunc.pix2ang(Nside,np.arange(ipixmin,Npix,1))))\n",
    "X[:,0] = np.pi/2-X[:,0]\n",
    "#X[:,1] = X[:,1]-np.pi\n",
    "#X*=180/np.pi\n",
    "Num=np.size(X,0)\n",
    "#---------------------------------"
   ]
  },
  {
   "cell_type": "code",
   "execution_count": 4,
   "metadata": {
    "collapsed": true
   },
   "outputs": [],
   "source": [
    "#Times since last visit\n",
    "#T = npr.randint(6, size=Num)+1\n",
    "if Num == 768:\n",
    "    T=np.load('Times8_complete.npy')\n",
    "elif Num == 1536:\n",
    "\tT=np.load('Times.npy')\n",
    "elif Num == 6144:\n",
    "\tT=np.load('Times32.npy')\n",
    "elif Num == 3072:\n",
    "    T=np.load('Times_complete.npy')\n",
    "elif Num == 12288:\n",
    "    T=np.load('Times32_complete.npy')\n",
    "else:\n",
    "    print 'Times since last observations created randomly'\n",
    "    T=npr.randint(1,7,Num)\n",
    "#-------------------------"
   ]
  },
  {
   "cell_type": "code",
   "execution_count": null,
   "metadata": {
    "scrolled": false
   },
   "outputs": [
    {
     "name": "stdout",
     "output_type": "stream",
     "text": [
      "2017-06-09 09:33:32.898315\n",
      "0.479142396813\n",
      "2017/3/9 23:31:13\n",
      "2017/3/10 00:17:13\n",
      "2017/3/10 01:03:13\n",
      "2017/3/10 01:49:13\n",
      "2017/3/10 02:35:13\n",
      "2017/3/10 03:21:12\n",
      "2017/3/10 04:07:12\n",
      "2017/3/10 04:53:12\n",
      "2017/3/10 05:39:12\n",
      "2017/3/10 06:25:12\n",
      "2017/3/10 07:11:12\n",
      "2017/3/10 07:57:12\n",
      "2017/3/10 08:43:11\n",
      "2017/3/10 09:29:11\n",
      "2017/3/10 10:15:11\n",
      "0.00138888888889\n",
      "Construccion Completa\n",
      "\n",
      "2017-06-09 09:33:42.936626\n"
     ]
    }
   ],
   "source": [
    "ACO=ACOSchedule(X,obs,15,T)"
   ]
  },
  {
   "cell_type": "code",
   "execution_count": null,
   "metadata": {
    "scrolled": true
   },
   "outputs": [
    {
     "name": "stdout",
     "output_type": "stream",
     "text": [
      "*****************Super Ants******************\n",
      "*****************Ants******************\n",
      "0 0 2017-06-09 09:33:42.941902\n",
      "new non dominated solution 2017-06-09 09:33:45.627458 Obs =  394.43552792 Time =  10518\n",
      "new non dominated solution 2017-06-09 09:33:45.627815 Obs =  391.456919802 Time =  10964\n",
      "new non dominated solution 2017-06-09 09:33:45.628261 Obs =  380.925560093 Time =  11148\n",
      "1 3 2017-06-09 09:33:45.638484\n",
      "new non dominated solution 2017-06-09 09:33:48.400329 Obs =  405.357865026 Time =  10606\n",
      "2 3 2017-06-09 09:33:48.404544\n",
      "new non dominated solution 2017-06-09 09:33:51.228158 Obs =  394.205277782 Time =  10748\n",
      "new non dominated solution 2017-06-09 09:33:51.228514 Obs =  383.570590709 Time =  11014\n",
      "3 5 2017-06-09 09:33:51.234754\n",
      "new non dominated solution 2017-06-09 09:33:53.926269 Obs =  396.5746488 Time =  10896\n",
      "4 5 2017-06-09 09:33:53.928043\n",
      "new non dominated solution 2017-06-09 09:33:56.685013 Obs =  396.344724312 Time =  11046\n",
      "new non dominated solution 2017-06-09 09:33:56.685361 Obs =  382.215015105 Time =  11198\n",
      "5 4 2017-06-09 09:33:56.688032\n",
      "new non dominated solution 2017-06-09 09:33:59.802265 Obs =  398.592577838 Time =  10718\n",
      "new non dominated solution 2017-06-09 09:33:59.802670 Obs =  399.360306256 Time =  10658\n",
      "6 6 2017-06-09 09:33:59.809998\n",
      "7 6 2017-06-09 09:34:02.553543\n",
      "new non dominated solution 2017-06-09 09:34:05.524707 Obs =  385.243040371 Time =  11060\n",
      "8 7 2017-06-09 09:34:05.529935\n",
      "new non dominated solution 2017-06-09 09:34:08.370431 Obs =  401.453788708 Time =  11118\n",
      "9 3 2017-06-09 09:34:08.371939\n",
      "10 3 2017-06-09 09:34:11.515928\n",
      "new non dominated solution 2017-06-09 09:34:14.732410 Obs =  403.292723496 Time =  10672\n",
      "new non dominated solution 2017-06-09 09:34:14.732855 Obs =  377.577117392 Time =  11272\n",
      "11 5 2017-06-09 09:34:14.737969\n",
      "new non dominated solution 2017-06-09 09:34:17.770105 Obs =  411.702896079 Time =  10426\n",
      "new non dominated solution 2017-06-09 09:34:17.770577 Obs =  393.32215076 Time =  11178\n",
      "12 7 2017-06-09 09:34:17.774394\n",
      "new non dominated solution 2017-06-09 09:34:20.818572 Obs =  405.813201131 Time =  10918\n",
      "new non dominated solution 2017-06-09 09:34:20.819105 Obs =  399.225003515 Time =  11316\n",
      "13 4 2017-06-09 09:34:20.821962\n",
      "14 4 2017-06-09 09:34:24.011610\n",
      "15 4 2017-06-09 09:34:27.069484\n",
      "new non dominated solution 2017-06-09 09:34:30.060251 Obs =  410.470244921 Time =  10638\n",
      "16 5 2017-06-09 09:34:30.064430\n",
      "new non dominated solution 2017-06-09 09:34:33.085227 Obs =  407.096430475 Time =  10864\n",
      "17 6 2017-06-09 09:34:33.088471\n",
      "18 6 2017-06-09 09:34:36.160370\n",
      "new non dominated solution 2017-06-09 09:34:38.933878 Obs =  384.154744077 Time =  11450\n",
      "19 7 2017-06-09 09:34:38.936683\n",
      "20 7 2017-06-09 09:34:41.725754\n",
      "new non dominated solution 2017-06-09 09:34:44.561564 Obs =  410.767067836 Time =  11020\n",
      "21 5 2017-06-09 09:34:44.564332\n",
      "22 5 2017-06-09 09:34:47.408900\n",
      "23 5 2017-06-09 09:34:50.458660\n",
      "24 5 2017-06-09 09:34:53.309036\n",
      "25 5 2017-06-09 09:34:56.951767\n",
      "26 5 2017-06-09 09:35:00.157827\n",
      "27 5 2017-06-09 09:35:03.114308\n",
      "28 5 2017-06-09 09:35:05.835100\n",
      "29 5 2017-06-09 09:35:08.535383\n",
      "30 5 2017-06-09 09:35:11.247081\n",
      "new non dominated solution 2017-06-09 09:35:13.975632 Obs =  379.866911333 Time =  11466\n",
      "31 6 2017-06-09 09:35:13.981965\n",
      "32 6 2017-06-09 09:35:16.716788\n",
      "33 6 2017-06-09 09:35:19.424773\n",
      "new non dominated solution 2017-06-09 09:35:22.127739 Obs =  400.19773298 Time =  11138\n",
      "34 7 2017-06-09 09:35:22.129421\n",
      "35 7 2017-06-09 09:35:24.884969\n",
      "new non dominated solution 2017-06-09 09:35:27.613215 Obs =  413.069645646 Time =  10524\n",
      "36 7 2017-06-09 09:35:27.619545\n",
      "37 7 2017-06-09 09:35:30.373214\n",
      "38 7 2017-06-09 09:35:33.150527\n",
      "new non dominated solution 2017-06-09 09:35:36.064713 Obs =  412.607590835 Time =  10798\n",
      "39 8 2017-06-09 09:35:36.067554\n",
      "40 8 2017-06-09 09:35:38.793322\n",
      "41 8 2017-06-09 09:35:41.522434\n",
      "42 8 2017-06-09 09:35:44.288822\n",
      "43 8 2017-06-09 09:35:47.297277\n",
      "44 8 2017-06-09 09:35:50.187546\n",
      "new non dominated solution 2017-06-09 09:35:53.081723 Obs =  394.932700151 Time =  11446\n",
      "45 9 2017-06-09 09:35:53.085954\n",
      "46 9 2017-06-09 09:35:56.099385\n",
      "47 9 2017-06-09 09:35:59.433846\n",
      "48 9 2017-06-09 09:36:03.540463\n",
      "new non dominated solution 2017-06-09 09:36:06.743020 Obs =  402.380598176 Time =  11118\n",
      "new non dominated solution 2017-06-09 09:36:06.743530 Obs =  367.58168767 Time =  11508\n",
      "49 10 2017-06-09 09:36:06.747420\n",
      "50 10 2017-06-09 09:36:09.621680\n",
      "new non dominated solution 2017-06-09 09:36:12.622680 Obs =  379.35126885 Time =  11572\n",
      "51 10 2017-06-09 09:36:12.627751\n",
      "52 10 2017-06-09 09:36:15.441611\n",
      "new non dominated solution 2017-06-09 09:36:18.425604 Obs =  401.185934383 Time =  11440\n",
      "53 9 2017-06-09 09:36:18.427502\n",
      "54 9 2017-06-09 09:36:21.358595\n",
      "new non dominated solution 2017-06-09 09:36:24.199188 Obs =  380.244069722 Time =  11460\n",
      "55 10 2017-06-09 09:36:24.204384\n",
      "56 10 2017-06-09 09:36:27.163998\n",
      "57 10 2017-06-09 09:36:30.252606\n",
      "58 10 2017-06-09 09:36:33.250091\n",
      "new non dominated solution 2017-06-09 09:36:36.027227 Obs =  389.094974718 Time =  11468\n",
      "59 8 2017-06-09 09:36:36.030093\n",
      "60 8 2017-06-09 09:36:38.928505\n",
      "61 8 2017-06-09 09:36:41.873710\n",
      "62 8 2017-06-09 09:36:44.646106\n",
      "new non dominated solution 2017-06-09 09:36:47.390003 Obs =  389.773342724 Time =  11462\n",
      "63 9 2017-06-09 09:36:47.395991\n",
      "64 9 2017-06-09 09:36:50.468940\n",
      "65 9 2017-06-09 09:36:53.488358\n",
      "66 9 2017-06-09 09:36:56.407209\n",
      "67 9 2017-06-09 09:36:59.296895\n",
      "68 9 2017-06-09 09:37:02.008003\n",
      "69 9 2017-06-09 09:37:04.811730\n",
      "70 9 2017-06-09 09:37:07.547539\n",
      "71 9 2017-06-09 09:37:10.365391\n",
      "72 9 2017-06-09 09:37:13.122048\n",
      "73 9 2017-06-09 09:37:15.847988\n",
      "74 9 2017-06-09 09:37:18.585947\n",
      "75 9 2017-06-09 09:37:21.322137\n",
      "new non dominated solution 2017-06-09 09:37:24.035424 Obs =  385.965095027 Time =  11674\n",
      "76 9 2017-06-09 09:37:24.038988\n",
      "77 9 2017-06-09 09:37:26.753096\n",
      "78 9 2017-06-09 09:37:29.476618\n",
      "79 9 2017-06-09 09:37:32.261187\n",
      "80 9 2017-06-09 09:37:35.037915\n",
      "81 9 2017-06-09 09:37:37.806122\n",
      "82 9 2017-06-09 09:37:40.563476\n",
      "83 9 2017-06-09 09:37:43.312159\n",
      "84 9 2017-06-09 09:37:46.054375\n",
      "85 9 2017-06-09 09:37:48.821649\n",
      "86 9 2017-06-09 09:37:51.663890\n",
      "new non dominated solution 2017-06-09 09:37:54.565975 Obs =  417.927355325 Time =  10716\n",
      "87 9 2017-06-09 09:37:54.570210\n",
      "88 9 2017-06-09 09:37:57.531864\n",
      "89 9 2017-06-09 09:38:00.436954\n",
      "new non dominated solution 2017-06-09 09:38:03.171114 Obs =  407.814344756 Time =  11198\n",
      "90 9 2017-06-09 09:38:03.172836\n",
      "91 9 2017-06-09 09:38:05.976289\n",
      "92 9 2017-06-09 09:38:08.736216\n",
      "93 9 2017-06-09 09:38:11.518004\n",
      "94 9 2017-06-09 09:38:14.257872\n",
      "new non dominated solution 2017-06-09 09:38:17.102978 Obs =  404.262274241 Time =  11432\n",
      "95 10 2017-06-09 09:38:17.106300\n",
      "96 10 2017-06-09 09:38:20.176494\n",
      "97 10 2017-06-09 09:38:23.112436\n",
      "98 10 2017-06-09 09:38:25.998198\n",
      "99 10 2017-06-09 09:38:28.747754\n",
      "100 10 2017-06-09 09:38:31.529015\n",
      "101 10 2017-06-09 09:38:34.272575\n",
      "102 10 2017-06-09 09:38:37.075416\n",
      "new non dominated solution 2017-06-09 09:38:39.998458 Obs =  407.116874333 Time =  11290\n",
      "103 11 2017-06-09 09:38:39.999967\n",
      "104 11 2017-06-09 09:38:43.051182\n",
      "105 11 2017-06-09 09:38:46.154181\n",
      "106 11 2017-06-09 09:38:49.029257\n",
      "107 11 2017-06-09 09:38:51.859472\n",
      "108 11 2017-06-09 09:38:54.768909\n",
      "109 11 2017-06-09 09:38:57.828266\n",
      "110 11 2017-06-09 09:39:00.692319\n",
      "111 11 2017-06-09 09:39:03.612418\n",
      "112 11 2017-06-09 09:39:06.756191\n",
      "113 11 2017-06-09 09:39:09.511259\n",
      "114 11 2017-06-09 09:39:12.290439\n",
      "115 11 2017-06-09 09:39:15.043940\n",
      "116 11 2017-06-09 09:39:17.812514\n",
      "117 11 2017-06-09 09:39:20.562014\n",
      "118 11 2017-06-09 09:39:23.310108\n",
      "new non dominated solution 2017-06-09 09:39:26.051615 Obs =  393.253005593 Time =  11458\n",
      "119 12 2017-06-09 09:39:26.054911\n",
      "120 12 2017-06-09 09:39:28.761575\n",
      "121 12 2017-06-09 09:39:31.494474\n",
      "122 12 2017-06-09 09:39:34.227174\n",
      "new non dominated solution 2017-06-09 09:39:36.981214 Obs =  409.796229105 Time =  11220\n",
      "123 12 2017-06-09 09:39:36.984013\n",
      "124 12 2017-06-09 09:39:39.719474\n",
      "125 12 2017-06-09 09:39:42.431774\n",
      "126 12 2017-06-09 09:39:45.155730\n",
      "127 12 2017-06-09 09:39:47.865576\n",
      "128 12 2017-06-09 09:39:50.592266\n",
      "129 12 2017-06-09 09:39:53.332990\n",
      "130 12 2017-06-09 09:39:56.063487\n",
      "131 12 2017-06-09 09:39:58.814050\n",
      "132 12 2017-06-09 09:40:01.607780\n",
      "133 12 2017-06-09 09:40:04.346835\n",
      "134 12 2017-06-09 09:40:07.194265\n"
     ]
    },
    {
     "name": "stdout",
     "output_type": "stream",
     "text": [
      "135 12 2017-06-09 09:40:09.937831\n",
      "136 12 2017-06-09 09:40:12.694454\n",
      "137 12 2017-06-09 09:40:15.432153\n",
      "138 12 2017-06-09 09:40:18.187580\n",
      "139 12 2017-06-09 09:40:20.914794\n",
      "140 12 2017-06-09 09:40:23.692158\n",
      "141 12 2017-06-09 09:40:26.416516\n",
      "142 12 2017-06-09 09:40:29.160595\n",
      "143 12 2017-06-09 09:40:31.932245\n",
      "144 12 2017-06-09 09:40:34.904010\n",
      "145 12 2017-06-09 09:40:38.079374\n",
      "146 12 2017-06-09 09:40:41.019581\n",
      "147 12 2017-06-09 09:40:43.911857\n",
      "148 12 2017-06-09 09:40:46.853396\n",
      "new non dominated solution 2017-06-09 09:40:49.798461 Obs =  391.380864938 Time =  11462\n",
      "149 12 2017-06-09 09:40:49.805298\n",
      "150 12 2017-06-09 09:40:52.723511\n",
      "151 12 2017-06-09 09:40:55.489523\n",
      "152 12 2017-06-09 09:40:58.236986\n",
      "153 12 2017-06-09 09:41:00.993630\n",
      "154 12 2017-06-09 09:41:03.733307\n",
      "155 12 2017-06-09 09:41:06.456261\n",
      "156 12 2017-06-09 09:41:09.322279\n",
      "157 12 2017-06-09 09:41:12.060950\n",
      "158 12 2017-06-09 09:41:14.776451\n",
      "159 12 2017-06-09 09:41:17.504562\n",
      "160 12 2017-06-09 09:41:20.209290\n",
      "161 12 2017-06-09 09:41:22.926123\n",
      "162 12 2017-06-09 09:41:25.648729\n",
      "new non dominated solution 2017-06-09 09:41:28.369000 Obs =  391.389778006 Time =  11470\n",
      "163 11 2017-06-09 09:41:28.372371\n",
      "164 11 2017-06-09 09:41:31.103646\n",
      "165 11 2017-06-09 09:41:33.840707\n",
      "166 11 2017-06-09 09:41:36.590635\n",
      "new non dominated solution 2017-06-09 09:41:39.341368 Obs =  396.138367154 Time =  11460\n",
      "new non dominated solution 2017-06-09 09:41:39.342000 Obs =  395.087042268 Time =  11588\n",
      "167 10 2017-06-09 09:41:39.345327\n",
      "new non dominated solution 2017-06-09 09:41:42.084099 Obs =  382.346556308 Time =  11714\n",
      "168 11 2017-06-09 09:41:42.088050\n",
      "169 11 2017-06-09 09:41:44.806532\n",
      "170 11 2017-06-09 09:41:47.534185\n",
      "171 11 2017-06-09 09:41:50.308441\n",
      "172 11 2017-06-09 09:41:53.030012\n",
      "173 11 2017-06-09 09:41:55.758752\n",
      "174 11 2017-06-09 09:41:58.501068\n",
      "175 11 2017-06-09 09:42:01.231065\n",
      "176 11 2017-06-09 09:42:03.986396\n",
      "177 11 2017-06-09 09:42:06.800283\n",
      "178 11 2017-06-09 09:42:09.563725\n",
      "179 11 2017-06-09 09:42:12.611946\n",
      "180 11 2017-06-09 09:42:15.439125\n",
      "181 11 2017-06-09 09:42:18.189677\n",
      "182 11 2017-06-09 09:42:20.914816\n",
      "183 11 2017-06-09 09:42:23.624166\n",
      "184 11 2017-06-09 09:42:26.367825\n",
      "185 11 2017-06-09 09:42:29.169259\n",
      "186 11 2017-06-09 09:42:31.940314\n"
     ]
    }
   ],
   "source": [
    "ACO.RunACO_Pheromone(0,1000)\n",
    "print len(ACO.BPS)"
   ]
  },
  {
   "cell_type": "code",
   "execution_count": null,
   "metadata": {
    "collapsed": true
   },
   "outputs": [],
   "source": [
    "if Nside==32:\n",
    "    markersize=25\n",
    "elif Nside==8:\n",
    "    markersize=400\n",
    "else:\n",
    "    markersize=100"
   ]
  },
  {
   "cell_type": "raw",
   "metadata": {},
   "source": [
    "#ACO.X = np.transpose(np.array(hpy.pixelfunc.pix2ang(Nside,np.arange(0,Npix,1))))\n",
    "#ACO.X[:,0] = np.pi/2-ACO.X[:,0]\n",
    "hpy.mollview(title=\"\",rot=(-10,-145,0))\n",
    "hpy.graticule(verbose=0)\n",
    "ax=hpy.projscatter(np.pi/2-ACO.X[:,0],ACO.X[:,1],lonlat=False,c=np.arange(np.size(ACO.X,0)),marker='.',s=markersize)\n",
    "plt.show()"
   ]
  },
  {
   "cell_type": "raw",
   "metadata": {},
   "source": [
    "X_conv=conversion(ACO.obs,ACO.X[:,0],ACO.X[:,1])\n",
    "hpy.mollview(title=\"\",rot=(0,0,0))\n",
    "hpy.graticule(verbose=0)\n",
    "ax=hpy.projscatter(np.pi/2-X_conv[1,:],X_conv[0,:],lonlat=False,c=np.arange(np.size(X_conv,1)),marker='.',s=markersize)\n",
    "plt.show()"
   ]
  },
  {
   "cell_type": "raw",
   "metadata": {},
   "source": [
    "X_deconv=deconversion(ACO.obs,X_conv[0,:],X_conv[1,:])\n",
    "hpy.mollview(title=\"\",rot=(-10,-145,0))\n",
    "hpy.graticule(verbose=0)\n",
    "ax=hpy.projscatter(np.pi/2-X_deconv[1,:],X_deconv[0,:],lonlat=False,c=np.arange(np.size(X_deconv,1)),marker='.',s=markersize)\n",
    "plt.show()"
   ]
  },
  {
   "cell_type": "code",
   "execution_count": null,
   "metadata": {},
   "outputs": [],
   "source": [
    "fig=ACO.PlotParetoHistorial(show=True)\n",
    "fig=ACO.PlotParetoFront(show=True)"
   ]
  },
  {
   "cell_type": "raw",
   "metadata": {
    "scrolled": true
   },
   "source": [
    "for i in range(ACO.NightDisc):\n",
    "    ACO.X_fact=np.transpose(np.array([np.multiply(ACO.X[:,0],ACO.Fact[i]),np.multiply(ACO.X[:,1],ACO.Fact[i])]))\n",
    "    hpy.mollview(title=\"Observable Points at time : \"+str(ephem.Date(ACO.Times[i])),rot=(-10,-145,0))\n",
    "    hpy.graticule(verbose=0)\n",
    "    ax=hpy.projscatter(np.pi/2-ACO.X_fact[:,0],ACO.X_fact[:,1],lonlat=False,c=np.arange(np.size(ACO.X_fact,0)),marker='.',s=markersize)\n",
    "    ax=hpy.projscatter(np.pi/2-ACO.MAA[i,1],ACO.MAA[i,0],lonlat=False,marker='+',c='grey')\n",
    "    plt.show()"
   ]
  },
  {
   "cell_type": "raw",
   "metadata": {
    "scrolled": true
   },
   "source": [
    "for i in range(len(ACO.BPS)):\n",
    "    [schedAA,schedDR]=ACO.AZALT(ACO.BPS[i][0])\n",
    "    schedAA = np.array(schedAA)\n",
    "    schedDR = np.array(schedDR)\n",
    "    hpy.mollview(title=\"Points observed throughout the night \\n Number of points observed : \"+str(np.size(ACO.BPS[i][0],0))+\" \\n Observation Quality = \"+str(ACO.BPS[i][1])+\" | Time Quality = \"+str(ACO.BPS[i][2]),rot=(-10,-145,0))\n",
    "    hpy.graticule(verbose=0)\n",
    "    ax=hpy.projscatter(np.pi/2-schedDR[:,1],schedDR[:,0],lonlat=False,c=np.arange(np.size(schedDR,0)),marker='.',s=markersize)\n",
    "    #ax=hpy.projscatter(np.pi/2-ACO.MAA[i,1],ACO.MAA[i,0],lonlat=False,marker='+',c='grey')\n",
    "    plt.show()"
   ]
  },
  {
   "cell_type": "raw",
   "metadata": {
    "scrolled": true
   },
   "source": [
    "for i in range(ACO.NightDisc):\n",
    "    ACO.X_fact=np.transpose(np.array([np.multiply(ACO.X[:,0],ACO.Fact[i]),np.multiply(ACO.X[:,1],ACO.Fact[i])]))\n",
    "    ACO.obs.date = ACO.Times[i]\n",
    "    ACO.X_fact=np.transpose(conversion(ACO.obs,ACO.X_fact[:,0],ACO.X_fact[:,1]))\n",
    "    hpy.mollview(title=\"Observable Points at time : \"+str(ephem.Date(ACO.Times[i])),rot=(0,90,0))\n",
    "    hpy.graticule(verbose=0)\n",
    "    ax=hpy.projscatter(np.pi/2-ACO.X_fact[:,1],ACO.X_fact[:,0],lonlat=False,c=np.arange(np.size(ACO.X_fact,0)),marker='.',s=markersize)\n",
    "    #ax=hpy.projscatter(np.pi/2-ACO.MAA[i,1],ACO.MAA[i,0],lonlat=False,marker='+',c='grey')\n",
    "    plt.show()"
   ]
  },
  {
   "cell_type": "raw",
   "metadata": {
    "scrolled": true
   },
   "source": [
    "for i in range(len(ACO.BPS)):\n",
    "    [schedAA,schedDR]=ACO.AZALT(ACO.BPS[i][0])\n",
    "    schedAA = np.array(schedAA)\n",
    "    schedDR = np.array(schedDR)\n",
    "    hpy.mollview(title=\"Points observed throughout the night \\n Number of points observed : \"+str(np.size(ACO.BPS[i][0],0))+\" \\n Observation Quality = \"+str(ACO.BPS[i][1])+\" | Time Quality = \"+str(ACO.BPS[i][2]),rot=(0,90,0))\n",
    "    hpy.graticule(verbose=0)\n",
    "    ax=hpy.projscatter(np.pi/2-schedAA[:,1],schedAA[:,0],lonlat=False,c=np.arange(np.size(schedAA,0)),marker='.',s=markersize)\n",
    "    #ax=hpy.projscatter(np.pi/2-ACO.MAA[i,1],ACO.MAA[i,0],lonlat=False,marker='+',c='grey')\n",
    "    plt.show()"
   ]
  },
  {
   "cell_type": "code",
   "execution_count": null,
   "metadata": {
    "collapsed": true
   },
   "outputs": [],
   "source": [
    "timenow = datetime.datetime.now()"
   ]
  },
  {
   "cell_type": "code",
   "execution_count": null,
   "metadata": {},
   "outputs": [],
   "source": [
    "def print_list(a):\n",
    "    print '[',\n",
    "    for i in a[:-1]:\n",
    "        print i,',',\n",
    "    print a[-1],']'\n",
    "\n",
    "\n",
    "a = np.sort(np.transpose(np.array([int(i[1]*10)/10.0 for i in ACO.BPS])))\n",
    "b = np.sort(np.transpose(np.array([i[2] for i in ACO.BPS])))[::-1]\n",
    "print_list(a)\n",
    "print_list(b)\n",
    "title = \"videos/%s-%s-%s_%s-%s-%s_%sIter_Pareto_Values\" % (timenow.year,timenow.month,timenow.day,timenow.hour,timenow.minute,timenow.second,ACO.AntIterations)\n",
    "np.savetxt(\"qhflsdjfn.txt\",(a,b),fmt='%s',delimiter=',',newline=']\\n[',header=' ')\n",
    "lines = open(\"qhflsdjfn.txt\").readlines()\n",
    "open(title, 'w').writelines(lines[1:-1])\n",
    "os.remove(\"qhflsdjfn.txt\")"
   ]
  },
  {
   "cell_type": "code",
   "execution_count": null,
   "metadata": {
    "scrolled": true
   },
   "outputs": [],
   "source": [
    "if(1):\n",
    "    print timenow\n",
    "    fig = ACO.PlotParetoHistorial(title=\"%s-%s-%s_%s-%s-%s_%sIter_Pareto_Historial\" % (timenow.year,timenow.month,timenow.day,timenow.hour,timenow.minute,timenow.second,ACO.AntIterations))\n",
    "    fig.savefig(\"videos/%s-%s-%s_%s-%s-%s_%sIter_Pareto_Historial\" % (timenow.year,timenow.month,timenow.day,timenow.hour,timenow.minute,timenow.second,ACO.AntIterations))\n",
    "    plt.clf()\n",
    "    fig = ACO.PlotParetoFront(title=\"%s-%s-%s_%s-%s-%s_%sIter_Pareto_Front\" % (timenow.year,timenow.month,timenow.day,timenow.hour,timenow.minute,timenow.second,ACO.AntIterations))\n",
    "    fig.savefig(\"videos/%s-%s-%s_%s-%s-%s_%sIter_Pareto_Front\" % (timenow.year,timenow.month,timenow.day,timenow.hour,timenow.minute,timenow.second,ACO.AntIterations))\n",
    "    plt.clf()\n",
    "    for i in range(len(ACO.BPS)):\n",
    "        [schedAA,schedDR]=ACO.AZALT(ACO.BPS[i][0])\n",
    "        print \"Saving equatorial for solution \"+str(i+1)+\"/\"+str(len(ACO.BPS))\n",
    "        animation_path(schedDR,(-10,-145,0),\"%s-%s-%s_%s-%s-%s_%sIter_Sol%s_%sObservations_T%s_O%s_equatorial\" % (timenow.year,timenow.month,timenow.day,timenow.hour,timenow.minute,timenow.second,ACO.AntIterations,i,np.size(ACO.BPS[i][0],0),ACO.BPS[i][2],int(ACO.BPS[i][1]*10)/10.0),marker='.',s=markersize)\n",
    "        print \"Saving horizontal for solution \"+str(i+1)+\"/\"+str(len(ACO.BPS))\n",
    "        plt.clf()\n",
    "        animation_path(schedAA,(0,90,0),\"%s-%s-%s_%s-%s-%s_%sIter_Sol%s_%sObservations_T%s_O%s_horizontal\" % (timenow.year,timenow.month,timenow.day,timenow.hour,timenow.minute,timenow.second,ACO.AntIterations,i,np.size(ACO.BPS[i][0],0),ACO.BPS[i][2],int(ACO.BPS[i][1]*10)/10.0),marker='.',s=markersize)\n",
    "        plt.clf()\n",
    "        plt.close('all')"
   ]
  },
  {
   "cell_type": "code",
   "execution_count": null,
   "metadata": {
    "collapsed": true
   },
   "outputs": [],
   "source": []
  }
 ],
 "metadata": {
  "kernelspec": {
   "display_name": "Python 2",
   "language": "python",
   "name": "python2"
  },
  "language_info": {
   "codemirror_mode": {
    "name": "ipython",
    "version": 2
   },
   "file_extension": ".py",
   "mimetype": "text/x-python",
   "name": "python",
   "nbconvert_exporter": "python",
   "pygments_lexer": "ipython2",
   "version": "2.7.13"
  }
 },
 "nbformat": 4,
 "nbformat_minor": 1
}
